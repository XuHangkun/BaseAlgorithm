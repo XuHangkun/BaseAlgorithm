{
 "metadata": {
  "language_info": {
   "codemirror_mode": {
    "name": "ipython",
    "version": 3
   },
   "file_extension": ".py",
   "mimetype": "text/x-python",
   "name": "python",
   "nbconvert_exporter": "python",
   "pygments_lexer": "ipython3",
   "version": "3.8.5-final"
  },
  "orig_nbformat": 2,
  "kernelspec": {
   "name": "python3",
   "display_name": "Python 3",
   "language": "python"
  }
 },
 "nbformat": 4,
 "nbformat_minor": 2,
 "cells": [
  {
   "source": [
    "# Algorithm of String"
   ],
   "cell_type": "markdown",
   "metadata": {}
  },
  {
   "cell_type": "code",
   "execution_count": 1,
   "metadata": {},
   "outputs": [],
   "source": [
    "import sys\n",
    "import matplotlib.pyplot as plt\n",
    "#change it to your path\n",
    "BaseAlgPath = \"/home/xuhangkun/Code/BaseAlgorithm\"\n",
    "sys.path.append(BaseAlgPath)"
   ]
  },
  {
   "cell_type": "code",
   "execution_count": 2,
   "metadata": {},
   "outputs": [],
   "source": [
    "def CheckSort(str_list,reverse = False):\n",
    "    \"\"\"check if the str_list has been sorted\n",
    "    \"\"\"\n",
    "    for i in range(len(str_list)-1):\n",
    "        if reverse:\n",
    "            if str_list[i] < str_list[i+1]:\n",
    "                return False\n",
    "        else:\n",
    "            if str_list[i] > str_list[i+1]:\n",
    "                return False\n",
    "    return True"
   ]
  },
  {
   "source": [
    "## sort of string"
   ],
   "cell_type": "markdown",
   "metadata": {}
  },
  {
   "cell_type": "code",
   "execution_count": 3,
   "metadata": {},
   "outputs": [
    {
     "output_type": "stream",
     "name": "stdout",
     "text": [
      "LSD sort string list : True\nMSD sort string list : True\nQ3S sort string list : True\n"
     ]
    }
   ],
   "source": [
    "from BaseAlgorithm.string.string_sort import LSD,MSD,Quick3String\n",
    "import random\n",
    "lsd = LSD()\n",
    "msd = MSD()\n",
    "q3s = Quick3String()\n",
    "with open('./data/ELStrings.txt') as f:\n",
    "    lines = f.readlines()\n",
    "    for i in range(len(lines)):\n",
    "        lines[i] = lines[i].strip('\\n')\n",
    "    lsd.sort(lines,4)\n",
    "    print(\"LSD sort string list :\",CheckSort(lines))\n",
    "    random.shuffle(lines)\n",
    "    msd.sort(lines)\n",
    "    print(\"MSD sort string list :\",CheckSort(lines))\n",
    "    random.shuffle(lines)\n",
    "    q3s.sort(lines)\n",
    "    print(\"Q3S sort string list :\",CheckSort(lines))\n",
    "    "
   ]
  },
  {
   "source": [
    "## search of string"
   ],
   "cell_type": "markdown",
   "metadata": {}
  },
  {
   "cell_type": "code",
   "execution_count": 4,
   "metadata": {},
   "outputs": [
    {
     "output_type": "stream",
     "name": "stdout",
     "text": [
      "Put word abcd(1) in to Tire String Tree\nPut word jdbh(2) in to Tire String Tree\nPut word dbjf(3) in to Tire String Tree\nPut word sbdf(4) in to Tire String Tree\nPut word jslh(5) in to Tire String Tree\nPut word fkdb(6) in to Tire String Tree\nPut word fbdk(7) in to Tire String Tree\nPut word abdl(8) in to Tire String Tree\nPut word dbjf(9) in to Tire String Tree\nPut word sbfj(10) in to Tire String Tree\nPut word fbdk(11) in to Tire String Tree\nPut word fsld(12) in to Tire String Tree\nPut word bfdb(13) in to Tire String Tree\nPut word cbdk(14) in to Tire String Tree\nPut word sbdk(15) in to Tire String Tree\nPut word cbdl(16) in to Tire String Tree\nPut word euoi(17) in to Tire String Tree\nPut word snfl(18) in to Tire String Tree\nPut word abvd(19) in to Tire String Tree\nPut word abfd(20) in to Tire String Tree\nPut word abkd(21) in to Tire String Tree\nPut word haod(22) in to Tire String Tree\nPut word abfa(23) in to Tire String Tree\nPut word abcm(24) in to Tire String Tree\nPut word jdbm(25) in to Tire String Tree\nPut word dbjm(26) in to Tire String Tree\nPut word sbdm(27) in to Tire String Tree\nPut word jslm(28) in to Tire String Tree\nPut word fkdm(29) in to Tire String Tree\nPut word fbdm(30) in to Tire String Tree\nPut word abdm(31) in to Tire String Tree\nPut word dbqm(32) in to Tire String Tree\nPut word sbqm(33) in to Tire String Tree\nPut word fbqm(34) in to Tire String Tree\nPut word fsqm(35) in to Tire String Tree\nPut word bfqm(36) in to Tire String Tree\nPut word cbqm(37) in to Tire String Tree\nPut word sbqm(38) in to Tire String Tree\nPut word c4qm(39) in to Tire String Tree\nPut word e4qm(40) in to Tire String Tree\nPut word s4qm(41) in to Tire String Tree\nPut word a4qm(42) in to Tire String Tree\nPut word a4qm(43) in to Tire String Tree\nPut word a4qm(44) in to Tire String Tree\nPut word h4qm(45) in to Tire String Tree\nPut word a4qm(46) in to Tire String Tree\n6\nNone\n[]\n"
     ]
    }
   ],
   "source": [
    "from BaseAlgorithm.string.string_search import TrieST\n",
    "trie = TrieST()\n",
    "with open('./data/ELStrings.txt') as f:\n",
    "    count = 1\n",
    "    lines = f.readlines()\n",
    "    for i in range(len(lines)):\n",
    "        lines[i] = lines[i].strip('\\n')\n",
    "    for line in lines:\n",
    "        words = line.split(\" \")\n",
    "        for word in words:\n",
    "            trie.put(word,count)\n",
    "            #print(word)\n",
    "            count += 1\n",
    "            print(\"Put word %s(%d) in to Tire String Tree\"%(word,trie.get(word)))\n",
    "\n",
    "print(trie.get(\"fkdb\"))\n",
    "print(trie.keysWithPrefix(\"fkd\"))"
   ]
  },
  {
   "cell_type": "code",
   "execution_count": null,
   "metadata": {},
   "outputs": [],
   "source": []
  }
 ]
}
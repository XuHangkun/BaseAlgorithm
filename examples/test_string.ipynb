{
 "metadata": {
  "language_info": {
   "codemirror_mode": {
    "name": "ipython",
    "version": 3
   },
   "file_extension": ".py",
   "mimetype": "text/x-python",
   "name": "python",
   "nbconvert_exporter": "python",
   "pygments_lexer": "ipython3",
   "version": "3.8.5-final"
  },
  "orig_nbformat": 2,
  "kernelspec": {
   "name": "python3",
   "display_name": "Python 3",
   "language": "python"
  }
 },
 "nbformat": 4,
 "nbformat_minor": 2,
 "cells": [
  {
   "source": [
    "# Algorithm of String"
   ],
   "cell_type": "markdown",
   "metadata": {}
  },
  {
   "cell_type": "code",
   "execution_count": 1,
   "metadata": {},
   "outputs": [],
   "source": [
    "import sys\n",
    "import matplotlib.pyplot as plt\n",
    "#change it to your path\n",
    "BaseAlgPath = \"/home/xuhangkun/Code/BaseAlgorithm\"\n",
    "sys.path.append(BaseAlgPath)"
   ]
  },
  {
   "cell_type": "code",
   "execution_count": 2,
   "metadata": {},
   "outputs": [],
   "source": [
    "def CheckSort(str_list,reverse = False):\n",
    "    \"\"\"check if the str_list has been sorted\n",
    "    \"\"\"\n",
    "    for i in range(len(str_list)-1):\n",
    "        if reverse:\n",
    "            if str_list[i] < str_list[i+1]:\n",
    "                return False\n",
    "        else:\n",
    "            if str_list[i] > str_list[i+1]:\n",
    "                return False\n",
    "    return True"
   ]
  },
  {
   "source": [
    "## sort of string"
   ],
   "cell_type": "markdown",
   "metadata": {}
  },
  {
   "cell_type": "code",
   "execution_count": 7,
   "metadata": {},
   "outputs": [
    {
     "output_type": "stream",
     "name": "stdout",
     "text": [
      "LSD sort string list : True\n"
     ]
    }
   ],
   "source": [
    "from BaseAlgorithm.string.string_sort import LSD,MSD\n",
    "lsd = LSD()\n",
    "msd = MSD()\n",
    "with open('./data/ELStrings.txt') as f:\n",
    "    lines = f.readlines()\n",
    "    for i in range(len(lines)):\n",
    "        lines[i] = lines[i].strip('\\n')\n",
    "    lsd.sort(lines,4)\n",
    "    print(\"LSD sort string list :\",CheckSort(lines))"
   ]
  },
  {
   "cell_type": "code",
   "execution_count": null,
   "metadata": {},
   "outputs": [],
   "source": []
  }
 ]
}